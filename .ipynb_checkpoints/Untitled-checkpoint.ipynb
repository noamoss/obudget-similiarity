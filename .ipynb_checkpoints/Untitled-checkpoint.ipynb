{
 "cells": [
  {
   "cell_type": "code",
   "execution_count": 27,
   "metadata": {},
   "outputs": [
    {
     "name": "stdout",
     "output_type": "stream",
     "text": [
      "Starting to load data, enetity to explore: procurement-contract Based on sources file named sources.json\n",
      "downloaded:  10000  items\n",
      "downloaded:  20000  items\n",
      "downloaded:  30000  items\n",
      "downloaded:  40000  items\n",
      "downloaded:  50000  items\n",
      "downloaded:  60000  items\n",
      "downloaded:  70000  items\n",
      "downloaded:  80000  items\n",
      "downloaded:  90000  items\n",
      "downloaded:  100000  items\n",
      "downloaded:  110000  items\n",
      "downloaded:  120000  items\n",
      "downloaded:  130000  items\n",
      "downloaded:  140000  items\n",
      "downloaded:  150000  items\n",
      "downloaded:  160000  items\n",
      "downloaded:  170000  items\n",
      "downloaded:  180000  items\n",
      "downloaded:  190000  items\n",
      "downloaded:  200000  items\n",
      "downloaded:  210000  items\n",
      "downloaded:  220000  items\n",
      "downloaded:  230000  items\n",
      "downloaded:  240000  items\n",
      "downloaded:  250000  items\n",
      "downloaded:  260000  items\n",
      "downloaded:  270000  items\n",
      "downloaded:  280000  items\n",
      "downloaded:  290000  items\n",
      "downloaded:  300000  items\n",
      "downloaded:  310000  items\n",
      "downloaded:  320000  items\n",
      "downloaded:  330000  items\n",
      "downloaded:  340000  items\n",
      "downloaded:  350000  items\n",
      "downloaded:  360000  items\n",
      "downloaded:  370000  items\n",
      "downloaded:  380000  items\n",
      "downloaded:  390000  items\n",
      "downloaded:  400000  items\n",
      "downloaded:  410000  items\n",
      "downloaded:  420000  items\n",
      "downloaded:  423761  items\n",
      "Starting to tokenize to tokenize dataframe's items (rows)\n",
      "building a corpus\n",
      "Number of words in dictionary: 111318\n",
      "transforming corpus into a tfidf matrix\n",
      "TfidfModel(num_docs=423761, num_nnz=5352707)\n",
      "calculating cosine similarities between the documents based on the give corpus\n"
     ]
    }
   ],
   "source": [
    "from settings import *\n",
    "from data_loader.load_data import load_datapackage\n",
    "from data_loader.get_settings import get_data_settings\n",
    "from tokenization.tokenize_df import tokenize_row\n",
    "from tokenization.tokenize_string import tokenize_text\n",
    "from tfidf.corpus import create_corpus\n",
    "from tfidf.tfidf import corpus_to_tfidf\n",
    "from tfidf.similarities import caluclate_similarities\n",
    "\n",
    "\n",
    "print(\"Starting to load data, enetity to explore: {} Based on sources file named {}\".format(ENTITY_TO_EXPLORE, SOURCES_FILE))\n",
    "df = load_datapackage(ENTITY_TO_EXPLORE)\n",
    "print(\"Starting to tokenize to tokenize dataframe's items (rows)\")\n",
    "df[\"tokenized\"] = df.apply(tokenize_row, axis=1)\n",
    "print(\"building a corpus\")\n",
    "corpus, dictionary, num_features = create_corpus(df)\n",
    "print(\"transforming corpus into a tfidf matrix\")\n",
    "tfidf_matrix = corpus_to_tfidf(corpus)\n",
    "print(\"calculating cosine similarities between the documents based on the give corpus\")\n",
    "sims = caluclate_similarities(tfidf_matrix=tfidf_matrix, corpus=corpus, num_features=num_features)"
   ]
  },
  {
   "cell_type": "code",
   "execution_count": 46,
   "metadata": {},
   "outputs": [
    {
     "name": "stdout",
     "output_type": "stream",
     "text": [
      "0  results:\n",
      "\n",
      "queried item: \n",
      " ----------\n"
     ]
    },
    {
     "ename": "IndexError",
     "evalue": "list index out of range",
     "output_type": "error",
     "traceback": [
      "\u001b[0;31m---------------------------------------------------------------------------\u001b[0m",
      "\u001b[0;31mIndexError\u001b[0m                                Traceback (most recent call last)",
      "\u001b[0;32m<ipython-input-46-38ed1a21985d>\u001b[0m in \u001b[0;36m<module>\u001b[0;34m()\u001b[0m\n\u001b[1;32m      4\u001b[0m \u001b[0mresults\u001b[0m \u001b[0;34m=\u001b[0m \u001b[0mfind_similiar\u001b[0m\u001b[0;34m(\u001b[0m\u001b[0;34m\"order_id\"\u001b[0m\u001b[0;34m,\u001b[0m\u001b[0;34m\"500274733\"\u001b[0m\u001b[0;34m,\u001b[0m\u001b[0mdf\u001b[0m\u001b[0;34m,\u001b[0m\u001b[0mdictionary\u001b[0m\u001b[0;34m,\u001b[0m\u001b[0mtfidf_matrix\u001b[0m\u001b[0;34m,\u001b[0m\u001b[0msims\u001b[0m\u001b[0;34m)\u001b[0m\u001b[0;34m\u001b[0m\u001b[0m\n\u001b[1;32m      5\u001b[0m \u001b[0mprint\u001b[0m\u001b[0;34m(\u001b[0m\u001b[0;34m\"queried item: \\n ----------\"\u001b[0m\u001b[0;34m)\u001b[0m\u001b[0;34m\u001b[0m\u001b[0m\n\u001b[0;32m----> 6\u001b[0;31m \u001b[0mprint\u001b[0m\u001b[0;34m(\u001b[0m\u001b[0mdf\u001b[0m\u001b[0;34m.\u001b[0m\u001b[0miloc\u001b[0m\u001b[0;34m[\u001b[0m\u001b[0mresults\u001b[0m\u001b[0;34m[\u001b[0m\u001b[0;36m0\u001b[0m\u001b[0;34m]\u001b[0m\u001b[0;34m[\u001b[0m\u001b[0;36m0\u001b[0m\u001b[0;34m]\u001b[0m\u001b[0;34m]\u001b[0m\u001b[0;34m)\u001b[0m\u001b[0;34m\u001b[0m\u001b[0m\n\u001b[0m\u001b[1;32m      7\u001b[0m \u001b[0mprint\u001b[0m\u001b[0;34m(\u001b[0m\u001b[0;34m\" \\n ---- similars: ---- \\n \"\u001b[0m\u001b[0;34m)\u001b[0m\u001b[0;34m\u001b[0m\u001b[0m\n\u001b[1;32m      8\u001b[0m \u001b[0;32mfor\u001b[0m \u001b[0mi\u001b[0m \u001b[0;32min\u001b[0m \u001b[0mrange\u001b[0m\u001b[0;34m(\u001b[0m\u001b[0;36m1\u001b[0m\u001b[0;34m,\u001b[0m \u001b[0mEXPECTED_RESULTS_NUM\u001b[0m\u001b[0;34m)\u001b[0m\u001b[0;34m:\u001b[0m\u001b[0;34m\u001b[0m\u001b[0m\n",
      "\u001b[0;31mIndexError\u001b[0m: list index out of range"
     ]
    }
   ],
   "source": [
    "%autoreload\n",
    "\n",
    "from tfidf.similarities import caluclate_similarities, entity_id_to_df_index, index_to_entity_id, add_id_to_result, find_similiar\n",
    "results = find_similiar(\"order_id\",\"500274733\",df,dictionary,tfidf_matrix,sims)\n",
    "print(\"queried item: \\n ----------\")\n",
    "print(df.iloc[results[0][0]])\n",
    "print(\" \\n ---- similars: ---- \\n \")\n",
    "for i in range(1, EXPECTED_RESULTS_NUM):\n",
    "    print(i,\":\\n\")\n",
    "    print(df.iloc[results[i][0]])\n",
    "    print(\"\\n\")"
   ]
  },
  {
   "cell_type": "code",
   "execution_count": 92,
   "metadata": {},
   "outputs": [
    {
     "name": "stdout",
     "output_type": "stream",
     "text": [
      "query_index: Int64Index([21], dtype='int64')\n",
      "0  results:\n",
      "\n"
     ]
    },
    {
     "data": {
      "text/plain": [
       "[]"
      ]
     },
     "execution_count": 92,
     "metadata": {},
     "output_type": "execute_result"
    }
   ],
   "source": [
    "%autoreload\n",
    "from tfidf.similarities import caluclate_similarities, entity_id_to_df_index, index_to_entity_id, add_id_to_result, find_similiar\n",
    "\n",
    "find_similiar(\"order_id\",\"1000621790\",df,dicionary,tfidf_matrix,sims)"
   ]
  },
  {
   "cell_type": "code",
   "execution_count": 95,
   "metadata": {},
   "outputs": [
    {
     "data": {
      "text/plain": [
       "21"
      ]
     },
     "execution_count": 95,
     "metadata": {},
     "output_type": "execute_result"
    }
   ],
   "source": [
    "entity_id_to_df_index(df,\"order_id\",\"1000621790\")"
   ]
  },
  {
   "cell_type": "code",
   "execution_count": 91,
   "metadata": {},
   "outputs": [
    {
     "data": {
      "text/plain": [
       "0                      1000368890\n",
       "1                      1000371723\n",
       "2                      1000611094\n",
       "3                      1000613217\n",
       "4                      1000613218\n",
       "5                      1000613535\n",
       "6                      1000614639\n",
       "7                      1000616847\n",
       "8                      1000616972\n",
       "9                      1000617788\n",
       "10                     1000617871\n",
       "11                     1000618587\n",
       "12                     1000618692\n",
       "13                     1000618693\n",
       "14                     1000618694\n",
       "15                     1000618695\n",
       "16                     1000619376\n",
       "17                     1000619632\n",
       "18                     1000621497\n",
       "19                     1000621637\n",
       "20                     1000621639\n",
       "21                     1000621790\n",
       "22                     1000621827\n",
       "23                     1000624157\n",
       "24                     1000624269\n",
       "25                     1000624508\n",
       "26                     1000624520\n",
       "27                     1000626784\n",
       "28                     1000626785\n",
       "29                     1000626787\n",
       "                   ...           \n",
       "423731       ישראל דיגיטאלית-022a\n",
       "423732       ישראל דיגיטאלית-022b\n",
       "423733       ישראל דיגיטאלית-022c\n",
       "423734       ישראל דיגיטאלית-022d\n",
       "423735       ישראל דיגיטאלית-022e\n",
       "423736       ישראל דיגיטאלית-022f\n",
       "423737       ישראל דיגיטאלית-0230\n",
       "423738       ישראל דיגיטאלית-0231\n",
       "423739       ישראל דיגיטאלית-0232\n",
       "423740       ישראל דיגיטאלית-0233\n",
       "423741       ישראל דיגיטאלית-0234\n",
       "423742       ישראל דיגיטאלית-0235\n",
       "423743       ישראל דיגיטאלית-0236\n",
       "423744       ישראל דיגיטאלית-0237\n",
       "423745    מחשוב ומערכות מידע-016e\n",
       "423746    מחשוב ומערכות מידע-016f\n",
       "423747    מחשוב ומערכות מידע-0187\n",
       "423748    מחשוב ומערכות מידע-018e\n",
       "423749    מחשוב ומערכות מידע-0190\n",
       "423750    מחשוב ומערכות מידע-0191\n",
       "423751    מחשוב ומערכות מידע-0194\n",
       "423752    מחשוב ומערכות מידע-0195\n",
       "423753    מחשוב ומערכות מידע-01a6\n",
       "423754    מחשוב ומערכות מידע-01ad\n",
       "423755    מחשוב ומערכות מידע-01c0\n",
       "423756    מחשוב ומערכות מידע-01c5\n",
       "423757    מחשוב ומערכות מידע-01c6\n",
       "423758    מחשוב ומערכות מידע-01c7\n",
       "423759    מחשוב ומערכות מידע-01c8\n",
       "423760    מחשוב ומערכות מידע-01cc\n",
       "Name: order_id, Length: 423761, dtype: object"
      ]
     },
     "execution_count": 91,
     "metadata": {},
     "output_type": "execute_result"
    }
   ],
   "source": []
  },
  {
   "cell_type": "code",
   "execution_count": null,
   "metadata": {
    "collapsed": true
   },
   "outputs": [],
   "source": []
  }
 ],
 "metadata": {
  "kernelspec": {
   "display_name": "Python 3",
   "language": "python",
   "name": "python3"
  },
  "language_info": {
   "codemirror_mode": {
    "name": "ipython",
    "version": 3
   },
   "file_extension": ".py",
   "mimetype": "text/x-python",
   "name": "python",
   "nbconvert_exporter": "python",
   "pygments_lexer": "ipython3",
   "version": "3.6.5"
  }
 },
 "nbformat": 4,
 "nbformat_minor": 2
}
