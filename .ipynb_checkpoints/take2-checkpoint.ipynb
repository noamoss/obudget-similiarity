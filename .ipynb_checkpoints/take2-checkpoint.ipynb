{
 "cells": [
  {
   "cell_type": "code",
   "execution_count": 1,
   "metadata": {
    "scrolled": true
   },
   "outputs": [
    {
     "name": "stdout",
     "output_type": "stream",
     "text": [
      "downloaded:  10000  items\n",
      "downloaded:  20000  items\n",
      "downloaded:  30000  items\n",
      "downloaded:  40000  items\n",
      "downloaded:  50000  items\n",
      "downloaded:  60000  items\n",
      "downloaded:  70000  items\n",
      "downloaded:  80000  items\n",
      "downloaded:  90000  items\n",
      "downloaded:  100000  items\n",
      "downloaded:  110000  items\n",
      "downloaded:  120000  items\n",
      "downloaded:  130000  items\n",
      "downloaded:  140000  items\n",
      "downloaded:  150000  items\n",
      "downloaded:  160000  items\n",
      "downloaded:  170000  items\n",
      "downloaded:  180000  items\n",
      "downloaded:  190000  items\n",
      "downloaded:  200000  items\n",
      "downloaded:  210000  items\n",
      "downloaded:  220000  items\n",
      "downloaded:  230000  items\n",
      "downloaded:  240000  items\n",
      "downloaded:  250000  items\n",
      "downloaded:  260000  items\n",
      "downloaded:  270000  items\n",
      "downloaded:  280000  items\n",
      "downloaded:  290000  items\n",
      "downloaded:  300000  items\n",
      "downloaded:  310000  items\n",
      "downloaded:  320000  items\n",
      "downloaded:  330000  items\n",
      "downloaded:  340000  items\n",
      "downloaded:  350000  items\n",
      "downloaded:  360000  items\n",
      "downloaded:  370000  items\n",
      "downloaded:  380000  items\n",
      "downloaded:  390000  items\n",
      "downloaded:  400000  items\n",
      "downloaded:  410000  items\n",
      "downloaded:  420000  items\n",
      "downloaded:  422342  items\n"
     ]
    }
   ],
   "source": [
    "import datapackage\n",
    "#import gensim\n",
    "import pandas as pd\n",
    "import re\n",
    "\n",
    "package=datapackage.Package('http://next.obudget.org/datapackages/procurement/spending/latest-contract-spending/datapackage.json')\n",
    "response = package.resources[0]\n",
    "iterator = response.iter(keyed=True)\n",
    "\n",
    "df=pd.DataFrame()\n",
    "\n",
    "items = []\n",
    "counter = 0\n",
    "for row in iterator:\n",
    "    for column_name in list(row.keys()):\n",
    "        if column_name not in df.columns:\n",
    "            df.insert(column=column_name,loc=len(df.columns),value=None)\n",
    "    items.append(row)\n",
    "    counter+=1\n",
    "    if counter % 10000 == 0:\n",
    "        print(\"downloaded: \",counter,\" items\")\n",
    "print(\"downloaded: \",counter,\" items\")\n",
    "\n",
    "df = pd.DataFrame(items)\n",
    "\n",
    "# add a row index to df\n",
    "df['doc_index'] = df.index    \n"
   ]
  },
  {
   "cell_type": "code",
   "execution_count": 2,
   "metadata": {
    "collapsed": true
   },
   "outputs": [],
   "source": [
    "# tokenize verbal column, add meta information without modifying it\n",
    "def tokenize(row):\n",
    "    # add here the columns you would like to index\n",
    "    columns_list = ['explanation','purpose'] \n",
    "    meta_columns_list = ['budget_code','budget_title','buyer_description','exemption_reason','publisher','purchase_method','purchasing_unit','supplier_name']\n",
    "\n",
    "    tokenized = []\n",
    "    for column_name in columns_list:\n",
    "        tokenized+=tokenize_text(row[column_name])\n",
    "    for meta_column in meta_columns_list:\n",
    "        tokenized+=[meta_column+\": \"+str(row[meta_column])]\n",
    "    return \", \".join(tokenized)\n",
    "\n",
    "\n",
    "def tokenize_text(text):    # tokenie textual documents\n",
    "                            # get rid of non alpha numberics, split to words in selected columns\n",
    "    regxlst = [re.compile(x) for x in [r'\\d+',]]    # regular expressions list for clean ups: \n",
    "                                                             # 1. only digits    \n",
    "    stringed_text = str(text)\n",
    "    ignore_signs = [\"\\,\",\"\\:\",\"\\;\",\"\\.\",\"\\&\",\"\\$\",\"\\-\",\"\\=\",\"\\(\",\"\\)\",\"\\d+\",\"\\\\n\"]\n",
    "    cleaned_1 = re.sub(\"|\".join(ignore_signs),\"\",stringed_text) # remove non-alphanumberic characters\n",
    "    cleaned_2 = re.sub(\"  \",\" \",cleaned_1)                # no more double spaces\n",
    "    cleaned_3 = cleaned_2.split()                       # split into separate words list\n",
    "    cleaned_4 =  [word for regex in regxlst for word in cleaned_3 if not(regex.match(word))] # filter by regular expressions\n",
    "    cleaned_5 = [word for word in cleaned_4 if word is not None]\n",
    "    return cleaned_5\n",
    "\n",
    "# creata words list per doc, add to Dataframe ('tokenized')\n",
    "\n",
    "df['tokenized'] = df.apply(tokenize,axis=1)"
   ]
  },
  {
   "cell_type": "code",
   "execution_count": 3,
   "metadata": {},
   "outputs": [
    {
     "name": "stdout",
     "output_type": "stream",
     "text": [
      "Number of words in dictionary: 110783\n",
      "TfidfModel(num_docs=422342, num_nnz=5331017)\n"
     ]
    }
   ],
   "source": [
    "import gensim\n",
    "import numpy\n",
    "gen_docs = [[ word for word in doc.split(\", \") if (word!= \"\" and word!='None')] for doc in df['tokenized']]\n",
    "dictionary = gensim.corpora.Dictionary(gen_docs)\n",
    "\n",
    "print(\"Number of words in dictionary:\",len(dictionary))\n",
    "\n",
    "corpus = [dictionary.doc2bow(gen_doc) for gen_doc in gen_docs]\n",
    "tf_idf = gensim.models.TfidfModel(corpus)\n",
    "print(tf_idf)"
   ]
  },
  {
   "cell_type": "code",
   "execution_count": 4,
   "metadata": {
    "collapsed": true
   },
   "outputs": [],
   "source": [
    "sims = gensim.similarities.Similarity('',\n",
    "                                      tf_idf[corpus],\n",
    "                                      num_features=len(dictionary))"
   ]
  },
  {
   "cell_type": "code",
   "execution_count": 124,
   "metadata": {
    "collapsed": true
   },
   "outputs": [],
   "source": [
    "expected_results_num = 10 # set how many (maximum) similar entities are wanted\n",
    "\n",
    "def entity_id_to_df_index(column_name, id_str):   #catch the index number of the desired record by a chosen column                   \n",
    "    return df.index[df[column_name] == id_str]\n",
    "\n",
    "def index_to_entity_id(column_name, row_index):   #catch the id (by a chosen column) of a row indexy                   \n",
    "    return df.iloc[row_index][column_name]\n",
    "\n",
    "\n",
    "def add_id_to_result(column_name,result):             #tranform 2 elements tuples (row index, rank) to 3 elements tuples (row index, id, rank)\n",
    "    to_list = list(result)\n",
    "    to_list.insert(1, index_to_entity_id(column_name,result[0]))\n",
    "    return tuple(to_list)\n",
    "    \n",
    "def find_similiar(column_name,id): # choose a Dataframe row index to query\n",
    "    query_index = entity_id_to_df_index(column_name,id)\n",
    "    query_doc = tokenize(df.iloc[query_index]).split(\", \")\n",
    "    # print(query_doc)\n",
    "    query_doc_bow = dictionary.doc2bow(query_doc)\n",
    "    # print(query_doc_bow)\n",
    "    query_doc_tf_idf = tf_idf[query_doc_bow]\n",
    "    # print(query_doc_tf_idf)\n",
    "\n",
    "    results = sims[query_doc_tf_idf]                   # get the similarity ranks\n",
    "    results = sorted(enumerate(results), key=lambda item: -item[1])[0:expected_results_num] # sort by relevancy\n",
    "    \n",
    "    results = [add_id_to_result(column_name,result) for result in results if result[1] > 0]  # add the result entity id + filter out results with 0 correlation\n",
    "    \n",
    "    print(len(results),\"results:\\n \",results,\"\\n\")\n",
    "    \n",
    "    return results"
   ]
  },
  {
   "cell_type": "code",
   "execution_count": 135,
   "metadata": {},
   "outputs": [
    {
     "name": "stdout",
     "output_type": "stream",
     "text": [
      "5 results:\n",
      "  [(63079, '4501089884', 0.5420446), (264417, '4501347241', 0.5420446), (6234, '4501007357', 0.5315435), (193116, '4501258714', 0.50989056), (193117, '4501258714', 0.48782334)] \n",
      "\n",
      "queried item: \n",
      " ----------\n",
      "amount_contracts                                                       3275.89\n",
      "budget_code                                                         0024400910\n",
      "budget_title                                                       רכש - קניות\n",
      "buyer_description                                          [בריאות-גזברות ת\"א]\n",
      "company_id                                                                None\n",
      "currency                                                                   ILS\n",
      "end_date                                                            2015-11-30\n",
      "entity_id                                                            511076572\n",
      "entity_kind                                                            company\n",
      "entity_name                                                 פלאפון תקשורת בע\"מ\n",
      "executed                                                               3275.89\n",
      "exemption_reason                                                            []\n",
      "explanation                                                                 []\n",
      "manof_excerpts                                                              []\n",
      "manof_ref                                                                   []\n",
      "max_year                                                                  2015\n",
      "min_year                                                                  2015\n",
      "order_date                                                          2015-08-06\n",
      "order_id                                                            4501089884\n",
      "payments                     [{'executed': 17463.22, 'period': None, 'times...\n",
      "publisher                                          [מב\"ר - גזברות איזורית ת\"א]\n",
      "publisher_name                                                    משרד הבריאות\n",
      "purchase_method                                                          [אחר]\n",
      "purchasing_unit                                       [מב\"ר-גזברות אזורית ת\"א]\n",
      "purchasing_unit_code                                                        []\n",
      "purpose                                                                פלא פון\n",
      "score                                                                     7.08\n",
      "sensitive_order                                                        [False]\n",
      "start_date                                                                None\n",
      "supplier_code                                                       [40001174]\n",
      "supplier_name                                             [פלאפון תקשורת בע\"מ]\n",
      "supplier_name_fingerprint                                   פלאפון תקשורת בע\"מ\n",
      "volume                                                                    7080\n",
      "doc_index                                                                63079\n",
      "tokenized                    [], פלא, פון, budget_code: 0024400910, budget_...\n",
      "Name: 63079, dtype: object\n",
      " \n",
      " ---- similiar: ---- \n",
      " \n",
      "amount_contracts                                                      24730.65\n",
      "budget_code                                                         0024400910\n",
      "budget_title                                                       רכש - קניות\n",
      "buyer_description                                          [בריאות-גזברות ת\"א]\n",
      "company_id                                                                None\n",
      "currency                                                                   ILS\n",
      "end_date                                                            2015-06-30\n",
      "entity_id                                                            511076572\n",
      "entity_kind                                                            company\n",
      "entity_name                                                 פלאפון תקשורת בע\"מ\n",
      "executed                                                              24730.65\n",
      "exemption_reason                                                            []\n",
      "explanation                                                                 []\n",
      "manof_excerpts                                                              []\n",
      "manof_ref                                                                   []\n",
      "max_year                                                                  2015\n",
      "min_year                                                                  2015\n",
      "order_date                                                          2015-01-18\n",
      "order_id                                                            4501007357\n",
      "payments                     [{'executed': 24730.65, 'period': None, 'times...\n",
      "publisher                                          [מב\"ר - גזברות איזורית ת\"א]\n",
      "publisher_name                                                    משרד הבריאות\n",
      "purchase_method                                                          [אחר]\n",
      "purchasing_unit                                       [מב\"ר-גזברות אזורית ת\"א]\n",
      "purchasing_unit_code                                                        []\n",
      "purpose                                                                פלא פו+\n",
      "score                                                                    21.24\n",
      "sensitive_order                                                        [False]\n",
      "start_date                                                                None\n",
      "supplier_code                                                       [40001174]\n",
      "supplier_name                                             [פלאפון תקשורת בע\"מ]\n",
      "supplier_name_fingerprint                                   פלאפון תקשורת בע\"מ\n",
      "volume                                                                   21240\n",
      "doc_index                                                                 6234\n",
      "tokenized                    [], פלא, פו+, budget_code: 0024400910, budget_...\n",
      "Name: 6234, dtype: object\n"
     ]
    }
   ],
   "source": [
    "query_index = \"4501007357\"\n",
    "results = find_similiar(\"order_id\",query_index)\n",
    "\n",
    "\n",
    "\n",
    "print(\"queried item: \\n ----------\")\n",
    "print(df.iloc[results[0][0]])\n",
    "print(\" \\n ---- similiar: ---- \\n \")\n",
    "print(df.iloc[results[2][0]])"
   ]
  },
  {
   "cell_type": "code",
   "execution_count": 131,
   "metadata": {},
   "outputs": [
    {
     "data": {
      "text/plain": [
       "63079"
      ]
     },
     "execution_count": 131,
     "metadata": {},
     "output_type": "execute_result"
    }
   ],
   "source": [
    "results[0][0]"
   ]
  },
  {
   "cell_type": "code",
   "execution_count": 78,
   "metadata": {},
   "outputs": [
    {
     "data": {
      "text/plain": [
       "Int64Index([6234], dtype='int64')"
      ]
     },
     "execution_count": 78,
     "metadata": {},
     "output_type": "execute_result"
    }
   ],
   "source": []
  },
  {
   "cell_type": "code",
   "execution_count": null,
   "metadata": {
    "collapsed": true
   },
   "outputs": [],
   "source": []
  }
 ],
 "metadata": {
  "kernelspec": {
   "display_name": "Python 3",
   "language": "python",
   "name": "python3"
  },
  "language_info": {
   "codemirror_mode": {
    "name": "ipython",
    "version": 3
   },
   "file_extension": ".py",
   "mimetype": "text/x-python",
   "name": "python",
   "nbconvert_exporter": "python",
   "pygments_lexer": "ipython3",
   "version": "3.6.5"
  }
 },
 "nbformat": 4,
 "nbformat_minor": 2
}
