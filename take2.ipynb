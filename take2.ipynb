{
 "cells": [
  {
   "cell_type": "code",
   "execution_count": 84,
   "metadata": {
    "scrolled": true
   },
   "outputs": [
    {
     "name": "stdout",
     "output_type": "stream",
     "text": [
      "downloaded:  10000  items\n",
      "downloaded:  20000  items\n",
      "downloaded:  30000  items\n",
      "downloaded:  40000  items\n",
      "downloaded:  50000  items\n",
      "downloaded:  60000  items\n",
      "downloaded:  70000  items\n",
      "downloaded:  80000  items\n",
      "downloaded:  90000  items\n",
      "downloaded:  100000  items\n",
      "downloaded:  110000  items\n",
      "downloaded:  120000  items\n",
      "downloaded:  130000  items\n",
      "downloaded:  140000  items\n",
      "downloaded:  150000  items\n",
      "downloaded:  160000  items\n",
      "downloaded:  170000  items\n",
      "downloaded:  180000  items\n",
      "downloaded:  190000  items\n",
      "downloaded:  200000  items\n",
      "downloaded:  210000  items\n",
      "downloaded:  220000  items\n",
      "downloaded:  230000  items\n",
      "downloaded:  240000  items\n",
      "downloaded:  250000  items\n",
      "downloaded:  260000  items\n",
      "downloaded:  270000  items\n",
      "downloaded:  280000  items\n",
      "downloaded:  290000  items\n",
      "downloaded:  300000  items\n",
      "downloaded:  310000  items\n",
      "downloaded:  320000  items\n",
      "downloaded:  330000  items\n",
      "downloaded:  340000  items\n",
      "downloaded:  350000  items\n",
      "downloaded:  360000  items\n",
      "downloaded:  370000  items\n",
      "downloaded:  380000  items\n",
      "downloaded:  390000  items\n",
      "downloaded:  400000  items\n",
      "downloaded:  410000  items\n",
      "downloaded:  420000  items\n",
      "downloaded:  422342  items\n"
     ]
    }
   ],
   "source": [
    "import datapackage\n",
    "#import gensim\n",
    "import pandas as pd\n",
    "import re\n",
    "\n",
    "package=datapackage.Package('http://next.obudget.org/datapackages/procurement/spending/latest-contract-spending/datapackage.json')\n",
    "response = package.resources[0]\n",
    "iterator = response.iter(keyed=True)\n",
    "\n",
    "df=pd.DataFrame()\n",
    "\n",
    "items = []\n",
    "counter = 0\n",
    "for row in iterator:\n",
    "    for column_name in list(row.keys()):\n",
    "        if column_name not in df.columns:\n",
    "            df.insert(column=column_name,loc=len(df.columns),value=None)\n",
    "    items.append(row)\n",
    "    counter+=1\n",
    "    if counter % 10000 == 0:\n",
    "        print(\"downloaded: \",counter,\" items\")\n",
    "print(\"downloaded: \",counter,\" items\")\n",
    "\n",
    "df = pd.DataFrame(items)\n",
    "\n",
    "# add a row index to df\n",
    "df['doc_index'] = df.index    \n"
   ]
  },
  {
   "cell_type": "code",
   "execution_count": 154,
   "metadata": {},
   "outputs": [],
   "source": [
    "# tokenize verbal column, add meta information without modifying it\n",
    "def tokenize(row):\n",
    "    # add here the columns you would like to index\n",
    "    columns_list = ['explanation','purpose'] \n",
    "    meta_columns_list = ['budget_code','budget_title','buyer_description','exemption_reason','publisher','purchase_method','purchasing_unit','supplier_name']\n",
    "\n",
    "    tokenized = []\n",
    "    for column_name in columns_list:\n",
    "        tokenized+=tokenize_text(row[column_name])\n",
    "    for meta_column in meta_columns_list:\n",
    "        tokenized+=[meta_column+\": \"+str(row[meta_column])]\n",
    "    return \", \".join(tokenized)\n",
    "\n",
    "\n",
    "def tokenize_text(text):    # tokenie textual documents\n",
    "                            # get rid of non alpha numberics, split to words in selected columns\n",
    "    regxlst = [re.compile(x) for x in [r'\\d+',]]    # regular expressions list for clean ups: \n",
    "                                                             # 1. only digits    \n",
    "    stringed_text = str(text)\n",
    "    ignore_signs = [\"\\,\",\"\\:\",\"\\;\",\"\\.\",\"\\&\",\"\\$\",\"\\-\",\"\\=\",\"\\(\",\"\\)\",\"\\d+\",\"\\\\n\"]\n",
    "    cleaned_1 = re.sub(\"|\".join(ignore_signs),\"\",stringed_text) # remove non-alphanumberic characters\n",
    "    cleaned_2 = re.sub(\"  \",\" \",cleaned_1)                # no more double spaces\n",
    "    cleaned_3 = cleaned_2.split()                       # split into separate words list\n",
    "    cleaned_4 =  [word for regex in regxlst for word in cleaned_3 if not(regex.match(word))] # filter by regular expressions\n",
    "    cleaned_5 = [word for word in cleaned_4 if word is not None]\n",
    "    return cleaned_5\n",
    "\n",
    "# creata words list per doc, add to Dataframe ('tokenized')\n",
    "\n",
    "df['tokenized'] = df.apply(tokenize,axis=1)"
   ]
  },
  {
   "cell_type": "code",
   "execution_count": 155,
   "metadata": {},
   "outputs": [
    {
     "name": "stdout",
     "output_type": "stream",
     "text": [
      "Number of words in dictionary: 110783\n",
      "TfidfModel(num_docs=422342, num_nnz=5331017)\n"
     ]
    }
   ],
   "source": [
    "import gensim\n",
    "import numpy\n",
    "gen_docs = [[ word for word in doc.split(\", \") if (word!= \"\" and word!='None')] for doc in df['tokenized']]\n",
    "dictionary = gensim.corpora.Dictionary(gen_docs)\n",
    "\n",
    "print(\"Number of words in dictionary:\",len(dictionary))\n",
    "\n",
    "corpus = [dictionary.doc2bow(gen_doc) for gen_doc in gen_docs]\n",
    "tf_idf = gensim.models.TfidfModel(corpus)\n",
    "print(tf_idf)"
   ]
  },
  {
   "cell_type": "code",
   "execution_count": 156,
   "metadata": {},
   "outputs": [],
   "source": [
    "sims = gensim.similarities.Similarity('',\n",
    "                                      tf_idf[corpus],\n",
    "                                      num_features=len(dictionary))"
   ]
  },
  {
   "cell_type": "code",
   "execution_count": 192,
   "metadata": {},
   "outputs": [],
   "source": [
    "def find_similiar(query_index): # choose a Dataframe row index to query\n",
    "    query_doc = tokenize(df.iloc[query_index]).split(\", \")\n",
    "    # print(query_doc)\n",
    "    query_doc_bow = dictionary.doc2bow(query_doc)\n",
    "    # print(query_doc_bow)\n",
    "    query_doc_tf_idf = tf_idf[query_doc_bow]\n",
    "    # print(query_doc_tf_idf)\n",
    "\n",
    "    results = sims[query_doc_tf_idf]\n",
    "    results = sorted(enumerate(results), key=lambda item: -item[1])[1:10]\n",
    "    print(\"results: \",results)\n",
    "    \n",
    "    return results"
   ]
  },
  {
   "cell_type": "code",
   "execution_count": 209,
   "metadata": {},
   "outputs": [
    {
     "name": "stdout",
     "output_type": "stream",
     "text": [
      "results:  [(166825, 1.0), (34723, 0.5619016), (34724, 0.5619016), (216097, 0.51524925), (216098, 0.51524925), (33079, 0.5090351), (33080, 0.5090351), (42444, 0.4872114), (42445, 0.4872114)]\n",
      "query: \n",
      "amount_contracts                                                        2632.5\n",
      "budget_code                                                         0007600230\n",
      "budget_title                                                         מחוז צפון\n",
      "buyer_description                                                  [מחוז צפון]\n",
      "company_id                                                           514449370\n",
      "currency                                                                   ILS\n",
      "end_date                                                                  None\n",
      "entity_id                                                            514449370\n",
      "entity_kind                                                            company\n",
      "entity_name                                        ש.ה. גורן ניהול ויזמות בע\"מ\n",
      "executed                                                                2632.5\n",
      "exemption_reason             [תקנה 3(1) - התקשרות ששוויה אינה עולה על 50,00...\n",
      "explanation                                                                 []\n",
      "manof_excerpts                                                              []\n",
      "manof_ref                                                                   []\n",
      "max_year                                                                  2016\n",
      "min_year                                                                  2016\n",
      "order_date                                                          2016-05-17\n",
      "order_id                                                            4501225363\n",
      "payments                     [{'executed': 2632.5, 'period': '1', 'timestam...\n",
      "publisher                                                  [המשרד לבטחון פנים]\n",
      "publisher_name                                       הרשות הארצית לכבאות והצלה\n",
      "purchase_method                                                   [פטור ממכרז]\n",
      "purchasing_unit                               [המשרד לבטחון פנים-הרשות הארצית]\n",
      "purchasing_unit_code                                                        []\n",
      "purpose                              מבצע מירון 2016 - גלילי אוויר לערכות קאפס\n",
      "score                                                                   2.6325\n",
      "sensitive_order                                                        [False]\n",
      "start_date                                                                None\n",
      "supplier_code                                                       [40932801]\n",
      "supplier_name                                    [ש.ה. גורן ניהול ויזמות בע\"מ]\n",
      "supplier_name_fingerprint                          ש.ה. גורן ניהול ויזמות בע\"מ\n",
      "volume                                                                  2632.5\n",
      "doc_index                                                               166825\n",
      "tokenized                    [], מבצע, מירון, גלילי, אוויר, לערכות, קאפס, b...\n",
      "Name: 166825, dtype: object\n",
      " ---- similiar: ---- \n",
      "amount_contracts                                                          3510\n",
      "budget_code                                                         0007600230\n",
      "budget_title                                                         מחוז צפון\n",
      "buyer_description                                                  [מחוז צפון]\n",
      "company_id                                                           514449370\n",
      "currency                                                                   ILS\n",
      "end_date                                                                  None\n",
      "entity_id                                                            514449370\n",
      "entity_kind                                                            company\n",
      "entity_name                                        ש.ה. גורן ניהול ויזמות בע\"מ\n",
      "executed                                                                  3510\n",
      "exemption_reason             [תקנה 3(1) - התקשרות ששוויה אינה עולה על 50,00...\n",
      "explanation                                                                 []\n",
      "manof_excerpts                                                              []\n",
      "manof_ref                                                                   []\n",
      "max_year                                                                  2016\n",
      "min_year                                                                  2016\n",
      "order_date                                                          2016-09-27\n",
      "order_id                                                            4501286840\n",
      "payments                     [{'executed': 0.0, 'period': '4', 'timestamp':...\n",
      "publisher                                                  [המשרד לבטחון פנים]\n",
      "publisher_name                                             המשרד לביטחון הפנים\n",
      "purchase_method                                                   [פטור ממכרז]\n",
      "purchasing_unit                               [המשרד לבטחון פנים-הרשות הארצית]\n",
      "purchasing_unit_code                                                        []\n",
      "purpose                            מתאם מפחית לחץ למילוי גלילי קאפס בגליל גולן\n",
      "score                                                                     3.51\n",
      "sensitive_order                                                        [False]\n",
      "start_date                                                                None\n",
      "supplier_code                                                       [40932801]\n",
      "supplier_name                                    [ש.ה. גורן ניהול ויזמות בע\"מ]\n",
      "supplier_name_fingerprint                          ש.ה. גורן ניהול ויזמות בע\"מ\n",
      "volume                                                                    3510\n",
      "doc_index                                                               216097\n",
      "tokenized                    [], מתאם, מפחית, לחץ, למילוי, גלילי, קאפס, בגל...\n",
      "Name: 216097, dtype: object\n"
     ]
    }
   ],
   "source": [
    "query_index = 166825\n",
    "results = find_similiar(query_index)\n",
    "\n",
    "print(\"query: \")\n",
    "print(df.iloc[query_index])\n",
    "print(\" ---- similiar: ---- \")\n",
    "print(df.iloc[results[3][0]])"
   ]
  },
  {
   "cell_type": "code",
   "execution_count": null,
   "metadata": {},
   "outputs": [],
   "source": []
  },
  {
   "cell_type": "code",
   "execution_count": null,
   "metadata": {},
   "outputs": [],
   "source": []
  },
  {
   "cell_type": "code",
   "execution_count": null,
   "metadata": {
    "collapsed": true
   },
   "outputs": [],
   "source": []
  }
 ],
 "metadata": {
  "kernelspec": {
   "display_name": "Python 3",
   "language": "python",
   "name": "python3"
  },
  "language_info": {
   "codemirror_mode": {
    "name": "ipython",
    "version": 3
   },
   "file_extension": ".py",
   "mimetype": "text/x-python",
   "name": "python",
   "nbconvert_exporter": "python",
   "pygments_lexer": "ipython3",
   "version": "3.6.5"
  }
 },
 "nbformat": 4,
 "nbformat_minor": 2
}
